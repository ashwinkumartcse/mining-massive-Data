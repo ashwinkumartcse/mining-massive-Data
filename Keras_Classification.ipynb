{
  "nbformat": 4,
  "nbformat_minor": 0,
  "metadata": {
    "colab": {
      "name": "Keras_Classification.ipynb",
      "provenance": [],
      "collapsed_sections": []
    },
    "kernelspec": {
      "name": "python3",
      "display_name": "Python 3"
    }
  },
  "cells": [
    {
      "cell_type": "code",
      "metadata": {
        "id": "YjMIsBHejLOq",
        "colab_type": "code",
        "outputId": "a7af3309-d6fd-4d0b-dfc6-3f524a05c9f6",
        "colab": {
          "base_uri": "https://localhost:8080/",
          "height": 82
        }
      },
      "source": [
        "import numpy as np\n",
        "from sklearn.datasets import load_iris\n",
        "from sklearn.model_selection import train_test_split\n",
        "from sklearn.preprocessing import OneHotEncoder\n",
        "\n",
        "from keras.models import Sequential\n",
        "from keras.layers import Dense\n",
        "from keras.optimizers import Adam"
      ],
      "execution_count": 0,
      "outputs": [
        {
          "output_type": "stream",
          "text": [
            "Using TensorFlow backend.\n"
          ],
          "name": "stderr"
        },
        {
          "output_type": "display_data",
          "data": {
            "text/html": [
              "<p style=\"color: red;\">\n",
              "The default version of TensorFlow in Colab will soon switch to TensorFlow 2.x.<br>\n",
              "We recommend you <a href=\"https://www.tensorflow.org/guide/migrate\" target=\"_blank\">upgrade</a> now \n",
              "or ensure your notebook will continue to use TensorFlow 1.x via the <code>%tensorflow_version 1.x</code> magic:\n",
              "<a href=\"https://colab.research.google.com/notebooks/tensorflow_version.ipynb\" target=\"_blank\">more info</a>.</p>\n"
            ],
            "text/plain": [
              "<IPython.core.display.HTML object>"
            ]
          },
          "metadata": {
            "tags": []
          }
        }
      ]
    },
    {
      "cell_type": "code",
      "metadata": {
        "id": "xd-CRisMj61o",
        "colab_type": "code",
        "colab": {}
      },
      "source": [
        "iris_data = load_iris()"
      ],
      "execution_count": 0,
      "outputs": []
    },
    {
      "cell_type": "code",
      "metadata": {
        "id": "5eJKwa9skBAS",
        "colab_type": "code",
        "outputId": "dc045aa4-0dee-40e8-f6ca-58409f8c2a05",
        "colab": {
          "base_uri": "https://localhost:8080/",
          "height": 72
        }
      },
      "source": [
        "print(iris_data.feature_names)\n",
        "print(iris_data.target_names)\n",
        "np.unique(iris_data.target)"
      ],
      "execution_count": 0,
      "outputs": [
        {
          "output_type": "stream",
          "text": [
            "['sepal length (cm)', 'sepal width (cm)', 'petal length (cm)', 'petal width (cm)']\n",
            "['setosa' 'versicolor' 'virginica']\n"
          ],
          "name": "stdout"
        },
        {
          "output_type": "execute_result",
          "data": {
            "text/plain": [
              "array([0, 1, 2])"
            ]
          },
          "metadata": {
            "tags": []
          },
          "execution_count": 4
        }
      ]
    },
    {
      "cell_type": "code",
      "metadata": {
        "id": "-ITme_1mkTsu",
        "colab_type": "code",
        "colab": {}
      },
      "source": [
        "x = iris_data.data\n",
        "y = iris_data.target"
      ],
      "execution_count": 0,
      "outputs": []
    },
    {
      "cell_type": "markdown",
      "metadata": {
        "id": "7NAuaUrpkckh",
        "colab_type": "text"
      },
      "source": [
        "***One Hot Encoding***"
      ]
    },
    {
      "cell_type": "code",
      "metadata": {
        "id": "G2u_S0khki4I",
        "colab_type": "code",
        "colab": {}
      },
      "source": [
        "y1 = iris_data.target.reshape(-1,1)"
      ],
      "execution_count": 0,
      "outputs": []
    },
    {
      "cell_type": "code",
      "metadata": {
        "id": "iIL_Vre1lCK9",
        "colab_type": "code",
        "colab": {}
      },
      "source": [
        "encoder = OneHotEncoder(sparse=False)\n",
        "y = encoder.fit_transform(y1)\n",
        "for i,j in zip(y1,y):\n",
        "  print(i,j)"
      ],
      "execution_count": 0,
      "outputs": []
    },
    {
      "cell_type": "code",
      "metadata": {
        "id": "Nw3B6qZZlg9D",
        "colab_type": "code",
        "colab": {}
      },
      "source": [
        "train_x,test_x,train_y,test_y = train_test_split(x,y,test_size=0.20)"
      ],
      "execution_count": 0,
      "outputs": []
    },
    {
      "cell_type": "code",
      "metadata": {
        "id": "zhlLOmi-md_g",
        "colab_type": "code",
        "outputId": "caa7151c-2e99-4d2b-a9c9-779f330542a3",
        "colab": {
          "base_uri": "https://localhost:8080/",
          "height": 124
        }
      },
      "source": [
        "model = Sequential()\n",
        "model.add(Dense(10,input_shape=(4,),activation='relu',name='fc1'))\n",
        "model.add(Dense(10,activation='relu',name='fc2'))\n",
        "model.add(Dense(3,activation='softmax',name='output'))"
      ],
      "execution_count": 0,
      "outputs": [
        {
          "output_type": "stream",
          "text": [
            "WARNING:tensorflow:From /usr/local/lib/python3.6/dist-packages/keras/backend/tensorflow_backend.py:66: The name tf.get_default_graph is deprecated. Please use tf.compat.v1.get_default_graph instead.\n",
            "\n",
            "WARNING:tensorflow:From /usr/local/lib/python3.6/dist-packages/keras/backend/tensorflow_backend.py:541: The name tf.placeholder is deprecated. Please use tf.compat.v1.placeholder instead.\n",
            "\n",
            "WARNING:tensorflow:From /usr/local/lib/python3.6/dist-packages/keras/backend/tensorflow_backend.py:4432: The name tf.random_uniform is deprecated. Please use tf.random.uniform instead.\n",
            "\n"
          ],
          "name": "stdout"
        }
      ]
    },
    {
      "cell_type": "code",
      "metadata": {
        "id": "Az_l8rihn3yV",
        "colab_type": "code",
        "outputId": "730df55c-4355-44ee-a2ae-d38bc1b195c1",
        "colab": {
          "base_uri": "https://localhost:8080/",
          "height": 88
        }
      },
      "source": [
        "optimizer = Adam(lr=0.001)\n",
        "model.compile(optimizer,loss='categorical_crossentropy',metrics=['accuracy'])"
      ],
      "execution_count": 0,
      "outputs": [
        {
          "output_type": "stream",
          "text": [
            "WARNING:tensorflow:From /usr/local/lib/python3.6/dist-packages/keras/optimizers.py:793: The name tf.train.Optimizer is deprecated. Please use tf.compat.v1.train.Optimizer instead.\n",
            "\n",
            "WARNING:tensorflow:From /usr/local/lib/python3.6/dist-packages/keras/backend/tensorflow_backend.py:3576: The name tf.log is deprecated. Please use tf.math.log instead.\n",
            "\n"
          ],
          "name": "stdout"
        }
      ]
    },
    {
      "cell_type": "code",
      "metadata": {
        "id": "5sX6GAoDoOew",
        "colab_type": "code",
        "outputId": "924ae045-96c9-4ecd-ca28-3718f3c1f667",
        "colab": {
          "base_uri": "https://localhost:8080/",
          "height": 301
        }
      },
      "source": [
        "print('Neural Network Model Summary:  ')\n",
        "print(model.summary())"
      ],
      "execution_count": 0,
      "outputs": [
        {
          "output_type": "stream",
          "text": [
            "Neural Network Model Summary:  \n",
            "Model: \"sequential_1\"\n",
            "_________________________________________________________________\n",
            "Layer (type)                 Output Shape              Param #   \n",
            "=================================================================\n",
            "fc1 (Dense)                  (None, 10)                50        \n",
            "_________________________________________________________________\n",
            "fc2 (Dense)                  (None, 10)                110       \n",
            "_________________________________________________________________\n",
            "output (Dense)               (None, 3)                 33        \n",
            "=================================================================\n",
            "Total params: 193\n",
            "Trainable params: 193\n",
            "Non-trainable params: 0\n",
            "_________________________________________________________________\n",
            "None\n"
          ],
          "name": "stdout"
        }
      ]
    },
    {
      "cell_type": "code",
      "metadata": {
        "id": "6zMUeamMoYEa",
        "colab_type": "code",
        "outputId": "d2d18c9b-5241-4877-ca6f-a0e0c8bcd6c6",
        "colab": {
          "base_uri": "https://localhost:8080/",
          "height": 1000
        }
      },
      "source": [
        "model.fit(train_x,train_y,verbose=2,batch_size=5,epochs=200)"
      ],
      "execution_count": 0,
      "outputs": [
        {
          "output_type": "stream",
          "text": [
            "WARNING:tensorflow:From /usr/local/lib/python3.6/dist-packages/tensorflow_core/python/ops/math_grad.py:1424: where (from tensorflow.python.ops.array_ops) is deprecated and will be removed in a future version.\n",
            "Instructions for updating:\n",
            "Use tf.where in 2.0, which has the same broadcast rule as np.where\n",
            "WARNING:tensorflow:From /usr/local/lib/python3.6/dist-packages/keras/backend/tensorflow_backend.py:1033: The name tf.assign_add is deprecated. Please use tf.compat.v1.assign_add instead.\n",
            "\n",
            "WARNING:tensorflow:From /usr/local/lib/python3.6/dist-packages/keras/backend/tensorflow_backend.py:1020: The name tf.assign is deprecated. Please use tf.compat.v1.assign instead.\n",
            "\n",
            "WARNING:tensorflow:From /usr/local/lib/python3.6/dist-packages/keras/backend/tensorflow_backend.py:3005: The name tf.Session is deprecated. Please use tf.compat.v1.Session instead.\n",
            "\n",
            "Epoch 1/200\n",
            "WARNING:tensorflow:From /usr/local/lib/python3.6/dist-packages/keras/backend/tensorflow_backend.py:190: The name tf.get_default_session is deprecated. Please use tf.compat.v1.get_default_session instead.\n",
            "\n",
            "WARNING:tensorflow:From /usr/local/lib/python3.6/dist-packages/keras/backend/tensorflow_backend.py:197: The name tf.ConfigProto is deprecated. Please use tf.compat.v1.ConfigProto instead.\n",
            "\n",
            "WARNING:tensorflow:From /usr/local/lib/python3.6/dist-packages/keras/backend/tensorflow_backend.py:207: The name tf.global_variables is deprecated. Please use tf.compat.v1.global_variables instead.\n",
            "\n",
            "WARNING:tensorflow:From /usr/local/lib/python3.6/dist-packages/keras/backend/tensorflow_backend.py:216: The name tf.is_variable_initialized is deprecated. Please use tf.compat.v1.is_variable_initialized instead.\n",
            "\n",
            "WARNING:tensorflow:From /usr/local/lib/python3.6/dist-packages/keras/backend/tensorflow_backend.py:223: The name tf.variables_initializer is deprecated. Please use tf.compat.v1.variables_initializer instead.\n",
            "\n",
            " - 1s - loss: 1.5395 - acc: 0.3083\n",
            "Epoch 2/200\n",
            " - 0s - loss: 1.2498 - acc: 0.3083\n",
            "Epoch 3/200\n",
            " - 0s - loss: 1.1168 - acc: 0.3083\n",
            "Epoch 4/200\n",
            " - 0s - loss: 1.0474 - acc: 0.3333\n",
            "Epoch 5/200\n",
            " - 0s - loss: 1.0019 - acc: 0.4833\n",
            "Epoch 6/200\n",
            " - 0s - loss: 0.9627 - acc: 0.6000\n",
            "Epoch 7/200\n",
            " - 0s - loss: 0.9221 - acc: 0.6333\n",
            "Epoch 8/200\n",
            " - 0s - loss: 0.8682 - acc: 0.6833\n",
            "Epoch 9/200\n",
            " - 0s - loss: 0.8117 - acc: 0.7333\n",
            "Epoch 10/200\n",
            " - 0s - loss: 0.7570 - acc: 0.7917\n",
            "Epoch 11/200\n",
            " - 0s - loss: 0.7014 - acc: 0.8167\n",
            "Epoch 12/200\n",
            " - 0s - loss: 0.6440 - acc: 0.8000\n",
            "Epoch 13/200\n",
            " - 0s - loss: 0.5785 - acc: 0.8083\n",
            "Epoch 14/200\n",
            " - 0s - loss: 0.5205 - acc: 0.8417\n",
            "Epoch 15/200\n",
            " - 0s - loss: 0.4841 - acc: 0.9333\n",
            "Epoch 16/200\n",
            " - 0s - loss: 0.4468 - acc: 0.9250\n",
            "Epoch 17/200\n",
            " - 0s - loss: 0.4197 - acc: 0.9167\n",
            "Epoch 18/200\n",
            " - 0s - loss: 0.3992 - acc: 0.9500\n",
            "Epoch 19/200\n",
            " - 0s - loss: 0.3754 - acc: 0.9500\n",
            "Epoch 20/200\n",
            " - 0s - loss: 0.3563 - acc: 0.9667\n",
            "Epoch 21/200\n",
            " - 0s - loss: 0.3389 - acc: 0.9667\n",
            "Epoch 22/200\n",
            " - 0s - loss: 0.3227 - acc: 0.9750\n",
            "Epoch 23/200\n",
            " - 0s - loss: 0.3107 - acc: 0.9500\n",
            "Epoch 24/200\n",
            " - 0s - loss: 0.2971 - acc: 0.9667\n",
            "Epoch 25/200\n",
            " - 0s - loss: 0.2803 - acc: 0.9750\n",
            "Epoch 26/200\n",
            " - 0s - loss: 0.2695 - acc: 0.9583\n",
            "Epoch 27/200\n",
            " - 0s - loss: 0.2632 - acc: 0.9500\n",
            "Epoch 28/200\n",
            " - 0s - loss: 0.2456 - acc: 0.9750\n",
            "Epoch 29/200\n",
            " - 0s - loss: 0.2397 - acc: 0.9750\n",
            "Epoch 30/200\n",
            " - 0s - loss: 0.2300 - acc: 0.9583\n",
            "Epoch 31/200\n",
            " - 0s - loss: 0.2192 - acc: 0.9667\n",
            "Epoch 32/200\n",
            " - 0s - loss: 0.2132 - acc: 0.9750\n",
            "Epoch 33/200\n",
            " - 0s - loss: 0.1971 - acc: 0.9750\n",
            "Epoch 34/200\n",
            " - 0s - loss: 0.1988 - acc: 0.9500\n",
            "Epoch 35/200\n",
            " - 0s - loss: 0.1837 - acc: 0.9750\n",
            "Epoch 36/200\n",
            " - 0s - loss: 0.1822 - acc: 0.9667\n",
            "Epoch 37/200\n",
            " - 0s - loss: 0.1765 - acc: 0.9583\n",
            "Epoch 38/200\n",
            " - 0s - loss: 0.1674 - acc: 0.9750\n",
            "Epoch 39/200\n",
            " - 0s - loss: 0.1603 - acc: 0.9833\n",
            "Epoch 40/200\n",
            " - 0s - loss: 0.1558 - acc: 0.9750\n",
            "Epoch 41/200\n",
            " - 0s - loss: 0.1509 - acc: 0.9750\n",
            "Epoch 42/200\n",
            " - 0s - loss: 0.1472 - acc: 0.9833\n",
            "Epoch 43/200\n",
            " - 0s - loss: 0.1426 - acc: 0.9750\n",
            "Epoch 44/200\n",
            " - 0s - loss: 0.1409 - acc: 0.9667\n",
            "Epoch 45/200\n",
            " - 0s - loss: 0.1367 - acc: 0.9833\n",
            "Epoch 46/200\n",
            " - 0s - loss: 0.1333 - acc: 0.9750\n",
            "Epoch 47/200\n",
            " - 0s - loss: 0.1281 - acc: 0.9750\n",
            "Epoch 48/200\n",
            " - 0s - loss: 0.1281 - acc: 0.9750\n",
            "Epoch 49/200\n",
            " - 0s - loss: 0.1269 - acc: 0.9583\n",
            "Epoch 50/200\n",
            " - 0s - loss: 0.1198 - acc: 0.9750\n",
            "Epoch 51/200\n",
            " - 0s - loss: 0.1213 - acc: 0.9750\n",
            "Epoch 52/200\n",
            " - 0s - loss: 0.1146 - acc: 0.9750\n",
            "Epoch 53/200\n",
            " - 0s - loss: 0.1136 - acc: 0.9750\n",
            "Epoch 54/200\n",
            " - 0s - loss: 0.1121 - acc: 0.9750\n",
            "Epoch 55/200\n",
            " - 0s - loss: 0.1125 - acc: 0.9583\n",
            "Epoch 56/200\n",
            " - 0s - loss: 0.1116 - acc: 0.9750\n",
            "Epoch 57/200\n",
            " - 0s - loss: 0.1140 - acc: 0.9583\n",
            "Epoch 58/200\n",
            " - 0s - loss: 0.1112 - acc: 0.9667\n",
            "Epoch 59/200\n",
            " - 0s - loss: 0.1063 - acc: 0.9833\n",
            "Epoch 60/200\n",
            " - 0s - loss: 0.1023 - acc: 0.9833\n",
            "Epoch 61/200\n",
            " - 0s - loss: 0.0995 - acc: 0.9750\n",
            "Epoch 62/200\n",
            " - 0s - loss: 0.1062 - acc: 0.9583\n",
            "Epoch 63/200\n",
            " - 0s - loss: 0.1002 - acc: 0.9667\n",
            "Epoch 64/200\n",
            " - 0s - loss: 0.1007 - acc: 0.9750\n",
            "Epoch 65/200\n",
            " - 0s - loss: 0.1102 - acc: 0.9500\n",
            "Epoch 66/200\n",
            " - 0s - loss: 0.1028 - acc: 0.9750\n",
            "Epoch 67/200\n",
            " - 0s - loss: 0.0939 - acc: 0.9750\n",
            "Epoch 68/200\n",
            " - 0s - loss: 0.0922 - acc: 0.9750\n",
            "Epoch 69/200\n",
            " - 0s - loss: 0.0948 - acc: 0.9833\n",
            "Epoch 70/200\n",
            " - 0s - loss: 0.0979 - acc: 0.9750\n",
            "Epoch 71/200\n",
            " - 0s - loss: 0.0956 - acc: 0.9583\n",
            "Epoch 72/200\n",
            " - 0s - loss: 0.0896 - acc: 0.9833\n",
            "Epoch 73/200\n",
            " - 0s - loss: 0.0916 - acc: 0.9750\n",
            "Epoch 74/200\n",
            " - 0s - loss: 0.0951 - acc: 0.9667\n",
            "Epoch 75/200\n",
            " - 0s - loss: 0.0866 - acc: 0.9750\n",
            "Epoch 76/200\n",
            " - 0s - loss: 0.0878 - acc: 0.9750\n",
            "Epoch 77/200\n",
            " - 0s - loss: 0.0880 - acc: 0.9750\n",
            "Epoch 78/200\n",
            " - 0s - loss: 0.0864 - acc: 0.9750\n",
            "Epoch 79/200\n",
            " - 0s - loss: 0.0836 - acc: 0.9833\n",
            "Epoch 80/200\n",
            " - 0s - loss: 0.0837 - acc: 0.9750\n",
            "Epoch 81/200\n",
            " - 0s - loss: 0.0861 - acc: 0.9750\n",
            "Epoch 82/200\n",
            " - 0s - loss: 0.0822 - acc: 0.9750\n",
            "Epoch 83/200\n",
            " - 0s - loss: 0.0818 - acc: 0.9750\n",
            "Epoch 84/200\n",
            " - 0s - loss: 0.0936 - acc: 0.9667\n",
            "Epoch 85/200\n",
            " - 0s - loss: 0.0794 - acc: 0.9833\n",
            "Epoch 86/200\n",
            " - 0s - loss: 0.0825 - acc: 0.9750\n",
            "Epoch 87/200\n",
            " - 0s - loss: 0.0838 - acc: 0.9750\n",
            "Epoch 88/200\n",
            " - 0s - loss: 0.0787 - acc: 0.9833\n",
            "Epoch 89/200\n",
            " - 0s - loss: 0.0798 - acc: 0.9750\n",
            "Epoch 90/200\n",
            " - 0s - loss: 0.0818 - acc: 0.9583\n",
            "Epoch 91/200\n",
            " - 0s - loss: 0.0803 - acc: 0.9833\n",
            "Epoch 92/200\n",
            " - 0s - loss: 0.0796 - acc: 0.9750\n",
            "Epoch 93/200\n",
            " - 0s - loss: 0.0760 - acc: 0.9833\n",
            "Epoch 94/200\n",
            " - 0s - loss: 0.0797 - acc: 0.9750\n",
            "Epoch 95/200\n",
            " - 0s - loss: 0.0879 - acc: 0.9667\n",
            "Epoch 96/200\n",
            " - 0s - loss: 0.0768 - acc: 0.9750\n",
            "Epoch 97/200\n",
            " - 0s - loss: 0.0773 - acc: 0.9750\n",
            "Epoch 98/200\n",
            " - 0s - loss: 0.0796 - acc: 0.9750\n",
            "Epoch 99/200\n",
            " - 0s - loss: 0.0806 - acc: 0.9750\n",
            "Epoch 100/200\n",
            " - 0s - loss: 0.0766 - acc: 0.9750\n",
            "Epoch 101/200\n",
            " - 0s - loss: 0.0745 - acc: 0.9750\n",
            "Epoch 102/200\n",
            " - 0s - loss: 0.0738 - acc: 0.9750\n",
            "Epoch 103/200\n",
            " - 0s - loss: 0.0794 - acc: 0.9667\n",
            "Epoch 104/200\n",
            " - 0s - loss: 0.0850 - acc: 0.9667\n",
            "Epoch 105/200\n",
            " - 0s - loss: 0.0748 - acc: 0.9667\n",
            "Epoch 106/200\n",
            " - 0s - loss: 0.0736 - acc: 0.9750\n",
            "Epoch 107/200\n",
            " - 0s - loss: 0.0737 - acc: 0.9833\n",
            "Epoch 108/200\n",
            " - 0s - loss: 0.0756 - acc: 0.9750\n",
            "Epoch 109/200\n",
            " - 0s - loss: 0.0741 - acc: 0.9750\n",
            "Epoch 110/200\n",
            " - 0s - loss: 0.0724 - acc: 0.9750\n",
            "Epoch 111/200\n",
            " - 0s - loss: 0.0723 - acc: 0.9750\n",
            "Epoch 112/200\n",
            " - 0s - loss: 0.0725 - acc: 0.9750\n",
            "Epoch 113/200\n",
            " - 0s - loss: 0.0733 - acc: 0.9833\n",
            "Epoch 114/200\n",
            " - 0s - loss: 0.0728 - acc: 0.9667\n",
            "Epoch 115/200\n",
            " - 0s - loss: 0.0746 - acc: 0.9750\n",
            "Epoch 116/200\n",
            " - 0s - loss: 0.0705 - acc: 0.9833\n",
            "Epoch 117/200\n",
            " - 0s - loss: 0.0750 - acc: 0.9750\n",
            "Epoch 118/200\n",
            " - 0s - loss: 0.0764 - acc: 0.9667\n",
            "Epoch 119/200\n",
            " - 0s - loss: 0.0767 - acc: 0.9667\n",
            "Epoch 120/200\n",
            " - 0s - loss: 0.0710 - acc: 0.9750\n",
            "Epoch 121/200\n",
            " - 0s - loss: 0.0757 - acc: 0.9667\n",
            "Epoch 122/200\n",
            " - 0s - loss: 0.0840 - acc: 0.9667\n",
            "Epoch 123/200\n",
            " - 0s - loss: 0.0790 - acc: 0.9667\n",
            "Epoch 124/200\n",
            " - 0s - loss: 0.0707 - acc: 0.9750\n",
            "Epoch 125/200\n",
            " - 0s - loss: 0.0731 - acc: 0.9583\n",
            "Epoch 126/200\n",
            " - 0s - loss: 0.0764 - acc: 0.9833\n",
            "Epoch 127/200\n",
            " - 0s - loss: 0.0682 - acc: 0.9750\n",
            "Epoch 128/200\n",
            " - 0s - loss: 0.0724 - acc: 0.9750\n",
            "Epoch 129/200\n",
            " - 0s - loss: 0.0706 - acc: 0.9667\n",
            "Epoch 130/200\n",
            " - 0s - loss: 0.0662 - acc: 0.9833\n",
            "Epoch 131/200\n",
            " - 0s - loss: 0.0696 - acc: 0.9833\n",
            "Epoch 132/200\n",
            " - 0s - loss: 0.0723 - acc: 0.9750\n",
            "Epoch 133/200\n",
            " - 0s - loss: 0.0768 - acc: 0.9750\n",
            "Epoch 134/200\n",
            " - 0s - loss: 0.0696 - acc: 0.9750\n",
            "Epoch 135/200\n",
            " - 0s - loss: 0.0741 - acc: 0.9583\n",
            "Epoch 136/200\n",
            " - 0s - loss: 0.0726 - acc: 0.9750\n",
            "Epoch 137/200\n",
            " - 0s - loss: 0.0725 - acc: 0.9750\n",
            "Epoch 138/200\n",
            " - 0s - loss: 0.0714 - acc: 0.9750\n",
            "Epoch 139/200\n",
            " - 0s - loss: 0.0699 - acc: 0.9833\n",
            "Epoch 140/200\n",
            " - 0s - loss: 0.0676 - acc: 0.9750\n",
            "Epoch 141/200\n",
            " - 0s - loss: 0.0701 - acc: 0.9750\n",
            "Epoch 142/200\n",
            " - 0s - loss: 0.0712 - acc: 0.9833\n",
            "Epoch 143/200\n",
            " - 0s - loss: 0.0670 - acc: 0.9667\n",
            "Epoch 144/200\n",
            " - 0s - loss: 0.0685 - acc: 0.9833\n",
            "Epoch 145/200\n",
            " - 0s - loss: 0.0707 - acc: 0.9750\n",
            "Epoch 146/200\n",
            " - 0s - loss: 0.0675 - acc: 0.9750\n",
            "Epoch 147/200\n",
            " - 0s - loss: 0.0673 - acc: 0.9750\n",
            "Epoch 148/200\n",
            " - 0s - loss: 0.0670 - acc: 0.9833\n",
            "Epoch 149/200\n",
            " - 0s - loss: 0.0715 - acc: 0.9833\n",
            "Epoch 150/200\n",
            " - 0s - loss: 0.0721 - acc: 0.9667\n",
            "Epoch 151/200\n",
            " - 0s - loss: 0.0684 - acc: 0.9750\n",
            "Epoch 152/200\n",
            " - 0s - loss: 0.0697 - acc: 0.9667\n",
            "Epoch 153/200\n",
            " - 0s - loss: 0.0682 - acc: 0.9667\n",
            "Epoch 154/200\n",
            " - 0s - loss: 0.0653 - acc: 0.9750\n",
            "Epoch 155/200\n",
            " - 0s - loss: 0.0659 - acc: 0.9833\n",
            "Epoch 156/200\n",
            " - 0s - loss: 0.0736 - acc: 0.9667\n",
            "Epoch 157/200\n",
            " - 0s - loss: 0.0663 - acc: 0.9750\n",
            "Epoch 158/200\n",
            " - 0s - loss: 0.0699 - acc: 0.9750\n",
            "Epoch 159/200\n",
            " - 0s - loss: 0.0748 - acc: 0.9750\n",
            "Epoch 160/200\n",
            " - 0s - loss: 0.0695 - acc: 0.9750\n",
            "Epoch 161/200\n",
            " - 0s - loss: 0.0653 - acc: 0.9750\n",
            "Epoch 162/200\n",
            " - 0s - loss: 0.0656 - acc: 0.9833\n",
            "Epoch 163/200\n",
            " - 0s - loss: 0.0673 - acc: 0.9833\n",
            "Epoch 164/200\n",
            " - 0s - loss: 0.0674 - acc: 0.9833\n",
            "Epoch 165/200\n",
            " - 0s - loss: 0.0675 - acc: 0.9667\n",
            "Epoch 166/200\n",
            " - 0s - loss: 0.0695 - acc: 0.9750\n",
            "Epoch 167/200\n",
            " - 0s - loss: 0.0653 - acc: 0.9833\n",
            "Epoch 168/200\n",
            " - 0s - loss: 0.0651 - acc: 0.9833\n",
            "Epoch 169/200\n",
            " - 0s - loss: 0.0721 - acc: 0.9750\n",
            "Epoch 170/200\n",
            " - 0s - loss: 0.0667 - acc: 0.9833\n",
            "Epoch 171/200\n",
            " - 0s - loss: 0.0700 - acc: 0.9750\n",
            "Epoch 172/200\n",
            " - 0s - loss: 0.0709 - acc: 0.9667\n",
            "Epoch 173/200\n",
            " - 0s - loss: 0.0659 - acc: 0.9750\n",
            "Epoch 174/200\n",
            " - 0s - loss: 0.0650 - acc: 0.9833\n",
            "Epoch 175/200\n",
            " - 0s - loss: 0.0690 - acc: 0.9750\n",
            "Epoch 176/200\n",
            " - 0s - loss: 0.0727 - acc: 0.9750\n",
            "Epoch 177/200\n",
            " - 0s - loss: 0.0670 - acc: 0.9833\n",
            "Epoch 178/200\n",
            " - 0s - loss: 0.0663 - acc: 0.9750\n",
            "Epoch 179/200\n",
            " - 0s - loss: 0.0702 - acc: 0.9750\n",
            "Epoch 180/200\n",
            " - 0s - loss: 0.0659 - acc: 0.9750\n",
            "Epoch 181/200\n",
            " - 0s - loss: 0.0631 - acc: 0.9833\n",
            "Epoch 182/200\n",
            " - 0s - loss: 0.0648 - acc: 0.9750\n",
            "Epoch 183/200\n",
            " - 0s - loss: 0.0666 - acc: 0.9750\n",
            "Epoch 184/200\n",
            " - 0s - loss: 0.0629 - acc: 0.9833\n",
            "Epoch 185/200\n",
            " - 0s - loss: 0.0623 - acc: 0.9750\n",
            "Epoch 186/200\n",
            " - 0s - loss: 0.0678 - acc: 0.9667\n",
            "Epoch 187/200\n",
            " - 0s - loss: 0.0682 - acc: 0.9833\n",
            "Epoch 188/200\n",
            " - 0s - loss: 0.0674 - acc: 0.9750\n",
            "Epoch 189/200\n",
            " - 0s - loss: 0.0679 - acc: 0.9667\n",
            "Epoch 190/200\n",
            " - 0s - loss: 0.0653 - acc: 0.9750\n",
            "Epoch 191/200\n",
            " - 0s - loss: 0.0659 - acc: 0.9750\n",
            "Epoch 192/200\n",
            " - 0s - loss: 0.0633 - acc: 0.9833\n",
            "Epoch 193/200\n",
            " - 0s - loss: 0.0677 - acc: 0.9667\n",
            "Epoch 194/200\n",
            " - 0s - loss: 0.0763 - acc: 0.9750\n",
            "Epoch 195/200\n",
            " - 0s - loss: 0.0647 - acc: 0.9667\n",
            "Epoch 196/200\n",
            " - 0s - loss: 0.0757 - acc: 0.9833\n",
            "Epoch 197/200\n",
            " - 0s - loss: 0.0620 - acc: 0.9833\n",
            "Epoch 198/200\n",
            " - 0s - loss: 0.0710 - acc: 0.9750\n",
            "Epoch 199/200\n",
            " - 0s - loss: 0.0629 - acc: 0.9750\n",
            "Epoch 200/200\n",
            " - 0s - loss: 0.0700 - acc: 0.9750\n"
          ],
          "name": "stdout"
        },
        {
          "output_type": "execute_result",
          "data": {
            "text/plain": [
              "<keras.callbacks.History at 0x7efcca9cd470>"
            ]
          },
          "metadata": {
            "tags": []
          },
          "execution_count": 10
        }
      ]
    },
    {
      "cell_type": "code",
      "metadata": {
        "id": "Ep0GyI3yotX6",
        "colab_type": "code",
        "outputId": "dbf85001-f170-4dad-d14b-e4f107da9b4f",
        "colab": {
          "base_uri": "https://localhost:8080/",
          "height": 52
        }
      },
      "source": [
        "results = model.evaluate(test_x,test_y)\n",
        "results"
      ],
      "execution_count": 0,
      "outputs": [
        {
          "output_type": "stream",
          "text": [
            "\r30/30 [==============================] - 0s 1ms/step\n"
          ],
          "name": "stdout"
        },
        {
          "output_type": "execute_result",
          "data": {
            "text/plain": [
              "[0.04425833001732826, 1.0]"
            ]
          },
          "metadata": {
            "tags": []
          },
          "execution_count": 11
        }
      ]
    },
    {
      "cell_type": "code",
      "metadata": {
        "id": "fiplVtW_7Rx5",
        "colab_type": "code",
        "outputId": "6c95ab4a-6eeb-4ee9-f430-c86cecc22d2d",
        "colab": {
          "base_uri": "https://localhost:8080/",
          "height": 52
        }
      },
      "source": [
        "model.predict_classes(test_x)"
      ],
      "execution_count": 0,
      "outputs": [
        {
          "output_type": "execute_result",
          "data": {
            "text/plain": [
              "array([1, 2, 2, 0, 0, 2, 2, 1, 0, 0, 2, 2, 1, 0, 2, 0, 1, 1, 0, 0, 2, 0,\n",
              "       0, 2, 0, 2, 1, 1, 0, 0])"
            ]
          },
          "metadata": {
            "tags": []
          },
          "execution_count": 13
        }
      ]
    }
  ]
}